{
  "nbformat": 4,
  "nbformat_minor": 0,
  "metadata": {
    "colab": {
      "provenance": [],
      "authorship_tag": "ABX9TyPIfR1chT0C4Gg0mSkwY+YR",
      "include_colab_link": true
    },
    "kernelspec": {
      "name": "python3",
      "display_name": "Python 3"
    },
    "language_info": {
      "name": "python"
    }
  },
  "cells": [
    {
      "cell_type": "markdown",
      "metadata": {
        "id": "view-in-github",
        "colab_type": "text"
      },
      "source": [
        "<a href=\"https://colab.research.google.com/github/Sanjana-Gautam/Python-Conditional-Statement/blob/main/Data_types_ipynb.ipynb\" target=\"_parent\"><img src=\"https://colab.research.google.com/assets/colab-badge.svg\" alt=\"Open In Colab\"/></a>"
      ]
    },
    {
      "cell_type": "code",
      "execution_count": null,
      "metadata": {
        "colab": {
          "base_uri": "https://localhost:8080/"
        },
        "id": "61qGPRDrbLFM",
        "outputId": "eb2f72d2-d04d-4132-c845-ee700c5f3845"
      },
      "outputs": [
        {
          "output_type": "stream",
          "name": "stdout",
          "text": [
            "<class 'int'>\n",
            "<class 'float'>\n",
            "<class 'complex'>\n",
            "<class 'bool'>\n",
            "<class 'bool'>\n",
            "<class 'str'>\n",
            "<class 'list'>\n",
            "<class 'tuple'>\n",
            "<class 'dict'>\n",
            "<class 'set'>\n",
            "<class 'NoneType'>\n",
            "135339121266480\n",
            "135339143330288\n",
            "135339123642624\n",
            "135339122429056\n"
          ]
        }
      ],
      "source": [
        "from typing import Type\n",
        "# print(\"HI\")\n",
        "# Data_types\n",
        "# Numeric\n",
        "#int\n",
        "a = 133\n",
        "print(type(a))\n",
        "\n",
        "#float\n",
        "b = 34.4\n",
        "print(type(b))\n",
        "\n",
        "#complex\n",
        "\n",
        "c = 4 +7j\n",
        "print(type(c))\n",
        "\n",
        "#boolean\n",
        "\n",
        "a1 = True\n",
        "print(type(a1))\n",
        "\n",
        "a2 = False\n",
        "print(type(a2))\n",
        "\n",
        "#sequence\n",
        "#string\n",
        "b1 = \"sanna\"\n",
        "print(type(b1))\n",
        "\n",
        "#List\n",
        "b2 = [1 , 2.6 , \"sanna\"]\n",
        "print(type(b2))\n",
        "\n",
        "#tuple\n",
        "b3 =  (1, 3.5, \"sanna\")\n",
        "print(type(b3))\n",
        "\n",
        "#dictionary\n",
        "c = {\"name\" : \"sanna\" , \"class\" : 6 , \"roll\" : 2345}\n",
        "print(type(c))\n",
        "\n",
        "#set\n",
        "c2 =  {1, 3.5, \"sanna\"}\n",
        "print(type(c2))\n",
        "\n",
        "#None\n",
        "c5 = None\n",
        "print(type(c5))\n",
        "\n",
        "\n",
        "#Immutable data type\n",
        "#. once created , they cannot be changed . if you try to modify them , a new object is created\n",
        "#. int , float , str , complex , tuple\n",
        "\n",
        "s1 = \"sanna1\"\n",
        "print(id(s1))\n",
        "\n",
        "s1 = \"sanna\"\n",
        "print(id(s1))\n",
        "\n",
        "#3.mutable data type\n",
        "#. Can be changed , without creating a new object.\n",
        "#. list , dict,set\n",
        "li = [1 , 2.3 , 3 , 4]\n",
        "print(id(li))\n",
        "\n",
        "li = {1 , 2.3 , 3 , 4}\n",
        "print(id(li))\n",
        "\n",
        "\n",
        "\n",
        "\n",
        "\n",
        "\n"
      ]
    }
  ]
}